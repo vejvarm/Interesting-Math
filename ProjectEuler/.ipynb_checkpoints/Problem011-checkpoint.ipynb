{
 "cells": [
  {
   "cell_type": "markdown",
   "metadata": {},
   "source": [
    "# Largest product in a grid\n",
    "\n",
    "In the 20×20 grid below, four numbers along a diagonal line have been marked in red.\n",
    "\n",
    "08 02 22 97 38 15 00 40 00 75 04 05 07 78 52 12 50 77 91 08 <br>\n",
    "49 49 99 40 17 81 18 57 60 87 17 40 98 43 69 48 04 56 62 00 <br>\n",
    "81 49 31 73 55 79 14 29 93 71 40 67 53 88 30 03 49 13 36 65 <br>\n",
    "52 70 95 23 04 60 11 42 69 24 68 56 01 32 56 71 37 02 36 91 <br>\n",
    "22 31 16 71 51 67 63 89 41 92 36 54 22 40 40 28 66 33 13 80 <br>\n",
    "24 47 32 60 99 03 45 02 44 75 33 53 78 36 84 20 35 17 12 50 <br>\n",
    "32 98 81 28 64 23 67 10 <font color=\"red\">26</font> 38 40 67 59 54 70 66 18 38 64 70 <br>\n",
    "67 26 20 68 02 62 12 20 95 <font color=\"red\">63</font> 94 39 63 08 40 91 66 49 94 21 <br>\n",
    "24 55 58 05 66 73 99 26 97 17 <font color=\"red\">78</font> 78 96 83 14 88 34 89 63 72 <br>\n",
    "21 36 23 09 75 00 76 44 20 45 35 <font color=\"red\">14</font> 00 61 33 97 34 31 33 95 <br>\n",
    "78 17 53 28 22 75 31 67 15 94 03 80 04 62 16 14 09 53 56 92 <br>\n",
    "16 39 05 42 96 35 31 47 55 58 88 24 00 17 54 24 36 29 85 57 <br>\n",
    "86 56 00 48 35 71 89 07 05 44 44 37 44 60 21 58 51 54 17 58 <br>\n",
    "19 80 81 68 05 94 47 69 28 73 92 13 86 52 17 77 04 89 55 40 <br>\n",
    "04 52 08 83 97 35 99 16 07 97 57 32 16 26 26 79 33 27 98 66 <br>\n",
    "88 36 68 87 57 62 20 72 03 46 33 67 46 55 12 32 63 93 53 69 <br> \n",
    "04 42 16 73 38 25 39 11 24 94 72 18 08 46 29 32 40 62 76 36 <br>\n",
    "20 69 36 41 72 30 23 88 34 62 99 69 82 67 59 85 74 04 36 16 <br>\n",
    "20 73 35 29 78 31 90 01 74 31 49 71 48 86 81 16 23 57 05 54 <br>\n",
    "01 70 54 71 83 51 54 69 16 92 33 48 61 43 52 01 89 19 67 48\n",
    "\n",
    "The product of these numbers is $26 × 63 × 78 × 14 = 1788696$.\n",
    "\n",
    "What is the greatest product of four adjacent numbers in the same direction (up, down, left, right, or diagonally) in the 20×20 grid?"
   ]
  },
  {
   "cell_type": "code",
   "execution_count": 43,
   "metadata": {},
   "outputs": [
    {
     "name": "stdout",
     "output_type": "stream",
     "text": [
      "[8, 2, 22, 97, 38, 15, 0, 40, 0, 75, 4, 5, 7, 78, 52, 12, 50, 77, 91, 8]\n",
      "2\n",
      "70600674\n"
     ]
    }
   ],
   "source": [
    "# 1. load the data into a 2D list\n",
    "width = 20\n",
    "height = 20\n",
    "i = 0\n",
    "\n",
    "# !!! initializing a 2D list!\n",
    "grid_list = [[0 for x in range(width)] for y in range(height)]\n",
    "\n",
    "\n",
    "with open(\"grid.txt\") as file:\n",
    "    for line in file:\n",
    "        grid_list[i] = [int(n) for n in line.split()] # return each element (n) in line as integer for each line\n",
    "        i += 1\n",
    "        \n",
    "# !!! calling a 2D list\n",
    "print(grid_list[0]) # first row\n",
    "print(grid_list[0][1]) # first row second column\n",
    "\n",
    "\n",
    "# 2. identify 4 adjacent values (8-directions)\n",
    "curr_max = 0 # maximum in current iteration\n",
    "all_time_max = 0 # all time maximum value of product\n",
    "\n",
    "## horizontal:        [i][j]->[i+3][j]\n",
    "## vertical:          [i][j]->[i][j+3]\n",
    "## diagonal_l_to_r:   [i][j]->[i+3][j+3]\n",
    "## diagonal_r_to_l:   [i+3][j]->[i][j+3]\n",
    "for i in range(width-3):\n",
    "    for j in range(height-3):\n",
    "        horiz_product = grid_list[i][j]*grid_list[i+1][j]*grid_list[i+2][j]*grid_list[i+3][j]\n",
    "        verti_product = grid_list[i][j]*grid_list[i][j+1]*grid_list[i][j+2]*grid_list[i][j+3]\n",
    "        diag_product_LR = grid_list[i][j]*grid_list[i+1][j+1]*grid_list[i+2][j+2]*grid_list[i+3][j+3]\n",
    "        diag_product_RL = grid_list[i+3][j]*grid_list[i+2][j+1]*grid_list[i+1][j+2]*grid_list[i][j+3]\n",
    "            \n",
    "        # find maximum from the 4 products\n",
    "        curr_max = max(horiz_product,verti_product,diag_product_LR,diag_product_RL)\n",
    "        \n",
    "        # if the current maximum is bigger, save it to all_time_max\n",
    "        if curr_max > all_time_max:\n",
    "            all_time_max = curr_max\n",
    "\n",
    "\n",
    "print(all_time_max)\n",
    "    \n",
    "    "
   ]
  },
  {
   "cell_type": "code",
   "execution_count": null,
   "metadata": {
    "collapsed": true
   },
   "outputs": [],
   "source": [
    "# or using numpys matrix and array commands\n",
    "\"\"\"\n",
    "import numpy\n",
    "\n",
    "numpy.zeros((5, 5))\n",
    "\n",
    "array([[ 0.,  0.,  0.,  0.,  0.],\n",
    "       [ 0.,  0.,  0.,  0.,  0.],\n",
    "       [ 0.,  0.,  0.,  0.,  0.],\n",
    "       [ 0.,  0.,  0.,  0.,  0.],\n",
    "       [ 0.,  0.,  0.,  0.,  0.]])\n",
    "\n",
    "numpy.matrix([[1, 2],[3, 4]])\n",
    "matrix([[1, 2],\n",
    "        [3, 4]])\n",
    "\"\"\""
   ]
  }
 ],
 "metadata": {
  "kernelspec": {
   "display_name": "Python 3",
   "language": "python",
   "name": "python3"
  },
  "language_info": {
   "codemirror_mode": {
    "name": "ipython",
    "version": 3
   },
   "file_extension": ".py",
   "mimetype": "text/x-python",
   "name": "python",
   "nbconvert_exporter": "python",
   "pygments_lexer": "ipython3",
   "version": "3.6.2"
  }
 },
 "nbformat": 4,
 "nbformat_minor": 2
}
